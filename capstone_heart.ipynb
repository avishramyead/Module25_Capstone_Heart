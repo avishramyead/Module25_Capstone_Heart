{
 "cells": [
  {
   "cell_type": "code",
   "execution_count": 1,
   "metadata": {
    "id": "D7vdQZ6FxEiR"
   },
   "outputs": [],
   "source": [
    "import numpy as np\n",
    "import pandas as pd\n",
    "from sklearn.preprocessing import StandardScaler\n",
    "from sklearn.linear_model import LogisticRegression\n",
    "from sklearn.metrics import confusion_matrix, accuracy_score\n",
    "import matplotlib.pyplot as plt\n"
   ]
  },
  {
   "cell_type": "markdown",
   "metadata": {
    "id": "-R7jPtW2Z0iz",
    "jp-MarkdownHeadingCollapsed": true
   },
   "source": [
    "# Introduction\n",
    "\n",
    "Reference: https://www.kaggle.com/datasets/dileep070/heart-disease-prediction-using-logistic-regression\n",
    "\n",
    "World Health Organization has estimated 12 million deaths occur worldwide, every year due to Heart diseases. Half the deaths in the United States and other developed countries are due to cardio vascular diseases. The early prognosis of cardiovascular diseases can aid in making decisions on lifestyle changes in high risk patients and in turn reduce the complications. This research intends to pinpoint the most relevant/risk factors of heart disease as well as predict the overall risk using logistic regression\n",
    "\n",
    "<b>Source:</b>\n",
    "\n",
    "The dataset is publically available on the Kaggle website, and it is from an ongoing cardiovascular study on residents of the town of Framingham, Massachusetts. The classification goal is to predict whether the patient has 10-year risk of future coronary heart disease (CHD).The dataset provides the patients’ information. It includes over 4,000 records and 15 attributes.\n",
    "\n",
    "Each attribute is a potential risk factor. There are both demographic, behavioral and medical risk factors.\n",
    "\n",
    "<b>Demographic:</b>\n",
    "\n",
    "• Sex: male or female(Nominal)\n",
    "\n",
    "• Age: Age of the patient;(Continuous - Although the recorded ages have been truncated to whole numbers, the concept of age is continuous)\n",
    "\n",
    "<b>Behavioral </b>\n",
    "\n",
    "• Current Smoker: whether or not the patient is a current smoker (Nominal)\n",
    "\n",
    "• Cigs Per Day: the number of cigarettes that the person smoked on average in one day.(can be considered continuous as one can have any number of cigarettes, even half a cigarette.)\n",
    "\n",
    "<b>Medical( history) </b>\n",
    "\n",
    "• BP Meds: whether or not the patient was on blood pressure medication (Nominal)\n",
    "\n",
    "• Prevalent Stroke: whether or not the patient had previously had a stroke (Nominal)\n",
    "\n",
    "• Prevalent Hyp: whether or not the patient was hypertensive (Nominal)\n",
    "\n",
    "• Diabetes: whether or not the patient had diabetes (Nominal)\n",
    "\n",
    "<b>Medical(current) </b>\n",
    "\n",
    "• Tot Chol: total cholesterol level (Continuous)\n",
    "\n",
    "• Sys BP: systolic blood pressure (Continuous)\n",
    "\n",
    "• Dia BP: diastolic blood pressure (Continuous)\n",
    "\n",
    "• BMI: Body Mass Index (Continuous)\n",
    "\n",
    "• Heart Rate: heart rate (Continuous - In medical research, variables such as heart rate though in fact discrete, yet are considered continuous because of large number of possible values.)\n",
    "\n",
    "• Glucose: glucose level (Continuous)\n",
    "\n",
    "<b>Predict variable (desired target) </b>\n",
    "\n",
    "• 10 year risk of coronary heart disease CHD (binary: “1”, means “Yes”, “0” means “No”)\n",
    "\n",
    "---------------\n"
   ]
  },
  {
   "cell_type": "markdown",
   "metadata": {
    "id": "TnSu23jhOVZA"
   },
   "source": [
    "# Downloading and pre-processing the data"
   ]
  },
  {
   "cell_type": "code",
   "execution_count": 2,
   "metadata": {
    "colab": {
     "base_uri": "https://localhost:8080/",
     "height": 204
    },
    "id": "eYNRqkcqyH0M",
    "outputId": "c55aa28a-7d6e-4c78-b149-19dbe69b9d0f"
   },
   "outputs": [
    {
     "data": {
      "text/html": [
       "<div>\n",
       "<style scoped>\n",
       "    .dataframe tbody tr th:only-of-type {\n",
       "        vertical-align: middle;\n",
       "    }\n",
       "\n",
       "    .dataframe tbody tr th {\n",
       "        vertical-align: top;\n",
       "    }\n",
       "\n",
       "    .dataframe thead th {\n",
       "        text-align: right;\n",
       "    }\n",
       "</style>\n",
       "<table border=\"1\" class=\"dataframe\">\n",
       "  <thead>\n",
       "    <tr style=\"text-align: right;\">\n",
       "      <th></th>\n",
       "      <th>male</th>\n",
       "      <th>age</th>\n",
       "      <th>education</th>\n",
       "      <th>currentSmoker</th>\n",
       "      <th>cigsPerDay</th>\n",
       "      <th>BPMeds</th>\n",
       "      <th>prevalentStroke</th>\n",
       "      <th>prevalentHyp</th>\n",
       "      <th>diabetes</th>\n",
       "      <th>totChol</th>\n",
       "      <th>sysBP</th>\n",
       "      <th>diaBP</th>\n",
       "      <th>BMI</th>\n",
       "      <th>heartRate</th>\n",
       "      <th>glucose</th>\n",
       "      <th>TenYearCHD</th>\n",
       "    </tr>\n",
       "  </thead>\n",
       "  <tbody>\n",
       "    <tr>\n",
       "      <th>0</th>\n",
       "      <td>1</td>\n",
       "      <td>39</td>\n",
       "      <td>4.0</td>\n",
       "      <td>0</td>\n",
       "      <td>0.0</td>\n",
       "      <td>0.0</td>\n",
       "      <td>0</td>\n",
       "      <td>0</td>\n",
       "      <td>0</td>\n",
       "      <td>195.0</td>\n",
       "      <td>106.0</td>\n",
       "      <td>70.0</td>\n",
       "      <td>26.97</td>\n",
       "      <td>80.0</td>\n",
       "      <td>77.0</td>\n",
       "      <td>0</td>\n",
       "    </tr>\n",
       "    <tr>\n",
       "      <th>1</th>\n",
       "      <td>0</td>\n",
       "      <td>46</td>\n",
       "      <td>2.0</td>\n",
       "      <td>0</td>\n",
       "      <td>0.0</td>\n",
       "      <td>0.0</td>\n",
       "      <td>0</td>\n",
       "      <td>0</td>\n",
       "      <td>0</td>\n",
       "      <td>250.0</td>\n",
       "      <td>121.0</td>\n",
       "      <td>81.0</td>\n",
       "      <td>28.73</td>\n",
       "      <td>95.0</td>\n",
       "      <td>76.0</td>\n",
       "      <td>0</td>\n",
       "    </tr>\n",
       "    <tr>\n",
       "      <th>2</th>\n",
       "      <td>1</td>\n",
       "      <td>48</td>\n",
       "      <td>1.0</td>\n",
       "      <td>1</td>\n",
       "      <td>20.0</td>\n",
       "      <td>0.0</td>\n",
       "      <td>0</td>\n",
       "      <td>0</td>\n",
       "      <td>0</td>\n",
       "      <td>245.0</td>\n",
       "      <td>127.5</td>\n",
       "      <td>80.0</td>\n",
       "      <td>25.34</td>\n",
       "      <td>75.0</td>\n",
       "      <td>70.0</td>\n",
       "      <td>0</td>\n",
       "    </tr>\n",
       "    <tr>\n",
       "      <th>3</th>\n",
       "      <td>0</td>\n",
       "      <td>61</td>\n",
       "      <td>3.0</td>\n",
       "      <td>1</td>\n",
       "      <td>30.0</td>\n",
       "      <td>0.0</td>\n",
       "      <td>0</td>\n",
       "      <td>1</td>\n",
       "      <td>0</td>\n",
       "      <td>225.0</td>\n",
       "      <td>150.0</td>\n",
       "      <td>95.0</td>\n",
       "      <td>28.58</td>\n",
       "      <td>65.0</td>\n",
       "      <td>103.0</td>\n",
       "      <td>1</td>\n",
       "    </tr>\n",
       "    <tr>\n",
       "      <th>4</th>\n",
       "      <td>0</td>\n",
       "      <td>46</td>\n",
       "      <td>3.0</td>\n",
       "      <td>1</td>\n",
       "      <td>23.0</td>\n",
       "      <td>0.0</td>\n",
       "      <td>0</td>\n",
       "      <td>0</td>\n",
       "      <td>0</td>\n",
       "      <td>285.0</td>\n",
       "      <td>130.0</td>\n",
       "      <td>84.0</td>\n",
       "      <td>23.10</td>\n",
       "      <td>85.0</td>\n",
       "      <td>85.0</td>\n",
       "      <td>0</td>\n",
       "    </tr>\n",
       "  </tbody>\n",
       "</table>\n",
       "</div>"
      ],
      "text/plain": [
       "   male  age  education  currentSmoker  cigsPerDay  BPMeds  prevalentStroke  \\\n",
       "0     1   39        4.0              0         0.0     0.0                0   \n",
       "1     0   46        2.0              0         0.0     0.0                0   \n",
       "2     1   48        1.0              1        20.0     0.0                0   \n",
       "3     0   61        3.0              1        30.0     0.0                0   \n",
       "4     0   46        3.0              1        23.0     0.0                0   \n",
       "\n",
       "   prevalentHyp  diabetes  totChol  sysBP  diaBP    BMI  heartRate  glucose  \\\n",
       "0             0         0    195.0  106.0   70.0  26.97       80.0     77.0   \n",
       "1             0         0    250.0  121.0   81.0  28.73       95.0     76.0   \n",
       "2             0         0    245.0  127.5   80.0  25.34       75.0     70.0   \n",
       "3             1         0    225.0  150.0   95.0  28.58       65.0    103.0   \n",
       "4             0         0    285.0  130.0   84.0  23.10       85.0     85.0   \n",
       "\n",
       "   TenYearCHD  \n",
       "0           0  \n",
       "1           0  \n",
       "2           0  \n",
       "3           1  \n",
       "4           0  "
      ]
     },
     "execution_count": 2,
     "metadata": {},
     "output_type": "execute_result"
    }
   ],
   "source": [
    "#y value = TenYearCHD ->  10 year risk of coronary heart disease (binary: “1”, means “Yes”, “0” means “No”)\n",
    "\n",
    "data = pd.read_csv('framingham_null.csv')\n",
    "data.head()"
   ]
  },
  {
   "cell_type": "markdown",
   "metadata": {
    "id": "E0qemfflyYSb"
   },
   "source": [
    "We must then split the data into inputs and outputs. check how many null rows are present"
   ]
  },
  {
   "cell_type": "code",
   "execution_count": 3,
   "metadata": {},
   "outputs": [
    {
     "data": {
      "text/plain": [
       "<bound method NDFrame.describe of       male  age  education  currentSmoker  cigsPerDay  BPMeds  \\\n",
       "0        1   39        4.0              0         0.0     0.0   \n",
       "1        0   46        2.0              0         0.0     0.0   \n",
       "2        1   48        1.0              1        20.0     0.0   \n",
       "3        0   61        3.0              1        30.0     0.0   \n",
       "4        0   46        3.0              1        23.0     0.0   \n",
       "...    ...  ...        ...            ...         ...     ...   \n",
       "4233     1   50        1.0              1         1.0     0.0   \n",
       "4234     1   51        3.0              1        43.0     0.0   \n",
       "4235     0   48        2.0              1        20.0     NaN   \n",
       "4236     0   44        1.0              1        15.0     0.0   \n",
       "4237     0   52        2.0              0         0.0     0.0   \n",
       "\n",
       "      prevalentStroke  prevalentHyp  diabetes  totChol  sysBP  diaBP    BMI  \\\n",
       "0                   0             0         0    195.0  106.0   70.0  26.97   \n",
       "1                   0             0         0    250.0  121.0   81.0  28.73   \n",
       "2                   0             0         0    245.0  127.5   80.0  25.34   \n",
       "3                   0             1         0    225.0  150.0   95.0  28.58   \n",
       "4                   0             0         0    285.0  130.0   84.0  23.10   \n",
       "...               ...           ...       ...      ...    ...    ...    ...   \n",
       "4233                0             1         0    313.0  179.0   92.0  25.97   \n",
       "4234                0             0         0    207.0  126.5   80.0  19.71   \n",
       "4235                0             0         0    248.0  131.0   72.0  22.00   \n",
       "4236                0             0         0    210.0  126.5   87.0  19.16   \n",
       "4237                0             0         0    269.0  133.5   83.0  21.47   \n",
       "\n",
       "      heartRate  glucose  TenYearCHD  \n",
       "0          80.0     77.0           0  \n",
       "1          95.0     76.0           0  \n",
       "2          75.0     70.0           0  \n",
       "3          65.0    103.0           1  \n",
       "4          85.0     85.0           0  \n",
       "...         ...      ...         ...  \n",
       "4233       66.0     86.0           1  \n",
       "4234       65.0     68.0           0  \n",
       "4235       84.0     86.0           0  \n",
       "4236       86.0      NaN           0  \n",
       "4237       80.0    107.0           0  \n",
       "\n",
       "[4238 rows x 16 columns]>"
      ]
     },
     "execution_count": 3,
     "metadata": {},
     "output_type": "execute_result"
    }
   ],
   "source": [
    "#use describe function for an overview of the data \n",
    "data.describe"
   ]
  },
  {
   "cell_type": "code",
   "execution_count": 4,
   "metadata": {},
   "outputs": [
    {
     "name": "stdout",
     "output_type": "stream",
     "text": [
      "      male  age  education  currentSmoker  cigsPerDay  BPMeds  \\\n",
      "14       0   39        2.0              1         9.0     0.0   \n",
      "21       0   43        1.0              0         0.0     0.0   \n",
      "26       0   60        1.0              0         0.0     0.0   \n",
      "33       1   61        NaN              1         5.0     0.0   \n",
      "36       1   56        NaN              0         0.0     0.0   \n",
      "...    ...  ...        ...            ...         ...     ...   \n",
      "4208     0   51        1.0              1         9.0     0.0   \n",
      "4229     0   51        3.0              1        20.0     0.0   \n",
      "4230     0   56        1.0              1         3.0     0.0   \n",
      "4235     0   48        2.0              1        20.0     NaN   \n",
      "4236     0   44        1.0              1        15.0     0.0   \n",
      "\n",
      "      prevalentStroke  prevalentHyp  diabetes  totChol  sysBP  diaBP    BMI  \\\n",
      "14                  0             0         0    226.0  114.0   64.0  22.35   \n",
      "21                  0             0         0    185.0  123.5   77.5  29.89   \n",
      "26                  0             0         0    260.0  110.0   72.5  26.59   \n",
      "33                  0             0         0    175.0  134.0   82.5  18.59   \n",
      "36                  0             0         0    257.0  153.5  102.0  28.09   \n",
      "...               ...           ...       ...      ...    ...    ...    ...   \n",
      "4208                0             0         0    340.0  152.0   76.0  25.74   \n",
      "4229                0             1         0    251.0  140.0   80.0  25.60   \n",
      "4230                0             1         0    268.0  170.0  102.0  22.89   \n",
      "4235                0             0         0    248.0  131.0   72.0  22.00   \n",
      "4236                0             0         0    210.0  126.5   87.0  19.16   \n",
      "\n",
      "      heartRate  glucose  TenYearCHD  \n",
      "14         85.0      NaN           0  \n",
      "21         70.0      NaN           0  \n",
      "26         65.0      NaN           0  \n",
      "33         72.0     75.0           1  \n",
      "36         72.0     75.0           0  \n",
      "...         ...      ...         ...  \n",
      "4208       70.0      NaN           0  \n",
      "4229       75.0      NaN           0  \n",
      "4230       57.0      NaN           0  \n",
      "4235       84.0     86.0           0  \n",
      "4236       86.0      NaN           0  \n",
      "\n",
      "[582 rows x 16 columns]\n"
     ]
    }
   ],
   "source": [
    "#check how many rows contain nulls\n",
    "null_mask = data.isnull().any(axis=1)\n",
    "null_rows = data[null_mask]\n",
    "print(null_rows)"
   ]
  },
  {
   "cell_type": "code",
   "execution_count": 5,
   "metadata": {},
   "outputs": [],
   "source": [
    "#there are 582 rows with nulls"
   ]
  },
  {
   "cell_type": "code",
   "execution_count": 6,
   "metadata": {},
   "outputs": [],
   "source": [
    "#drop all rows containing null\n",
    "data_clean=data.dropna()"
   ]
  },
  {
   "cell_type": "code",
   "execution_count": 7,
   "metadata": {},
   "outputs": [
    {
     "name": "stdout",
     "output_type": "stream",
     "text": [
      "Optimization terminated successfully.\n",
      "         Current function value: 0.396642\n",
      "         Iterations 6\n"
     ]
    },
    {
     "data": {
      "text/html": [
       "<table class=\"simpletable\">\n",
       "<caption>Logit Regression Results</caption>\n",
       "<tr>\n",
       "  <th>Dep. Variable:</th>      <td>TenYearCHD</td>    <th>  No. Observations:  </th>  <td>  3656</td>  \n",
       "</tr>\n",
       "<tr>\n",
       "  <th>Model:</th>                 <td>Logit</td>      <th>  Df Residuals:      </th>  <td>  3641</td>  \n",
       "</tr>\n",
       "<tr>\n",
       "  <th>Method:</th>                 <td>MLE</td>       <th>  Df Model:          </th>  <td>    14</td>  \n",
       "</tr>\n",
       "<tr>\n",
       "  <th>Date:</th>            <td>Fri, 08 Aug 2025</td> <th>  Pseudo R-squ.:     </th>  <td>0.07059</td> \n",
       "</tr>\n",
       "<tr>\n",
       "  <th>Time:</th>                <td>10:52:45</td>     <th>  Log-Likelihood:    </th> <td> -1450.1</td> \n",
       "</tr>\n",
       "<tr>\n",
       "  <th>converged:</th>             <td>True</td>       <th>  LL-Null:           </th> <td> -1560.3</td> \n",
       "</tr>\n",
       "<tr>\n",
       "  <th>Covariance Type:</th>     <td>nonrobust</td>    <th>  LLR p-value:       </th> <td>3.854e-39</td>\n",
       "</tr>\n",
       "</table>\n",
       "<table class=\"simpletable\">\n",
       "<tr>\n",
       "         <td></td>            <th>coef</th>     <th>std err</th>      <th>z</th>      <th>P>|z|</th>  <th>[0.025</th>    <th>0.975]</th>  \n",
       "</tr>\n",
       "<tr>\n",
       "  <th>male</th>            <td>    0.4018</td> <td>    0.105</td> <td>    3.836</td> <td> 0.000</td> <td>    0.197</td> <td>    0.607</td>\n",
       "</tr>\n",
       "<tr>\n",
       "  <th>age</th>             <td>    0.0289</td> <td>    0.006</td> <td>    4.939</td> <td> 0.000</td> <td>    0.017</td> <td>    0.040</td>\n",
       "</tr>\n",
       "<tr>\n",
       "  <th>education</th>       <td>   -0.1966</td> <td>    0.048</td> <td>   -4.087</td> <td> 0.000</td> <td>   -0.291</td> <td>   -0.102</td>\n",
       "</tr>\n",
       "<tr>\n",
       "  <th>currentSmoker</th>   <td>   -0.2120</td> <td>    0.153</td> <td>   -1.386</td> <td> 0.166</td> <td>   -0.512</td> <td>    0.088</td>\n",
       "</tr>\n",
       "<tr>\n",
       "  <th>cigsPerDay</th>      <td>    0.0206</td> <td>    0.006</td> <td>    3.327</td> <td> 0.001</td> <td>    0.008</td> <td>    0.033</td>\n",
       "</tr>\n",
       "<tr>\n",
       "  <th>BPMeds</th>          <td>    0.3649</td> <td>    0.230</td> <td>    1.584</td> <td> 0.113</td> <td>   -0.087</td> <td>    0.816</td>\n",
       "</tr>\n",
       "<tr>\n",
       "  <th>prevalentStroke</th> <td>    0.7053</td> <td>    0.485</td> <td>    1.455</td> <td> 0.146</td> <td>   -0.245</td> <td>    1.655</td>\n",
       "</tr>\n",
       "<tr>\n",
       "  <th>prevalentHyp</th>    <td>    0.9165</td> <td>    0.124</td> <td>    7.368</td> <td> 0.000</td> <td>    0.673</td> <td>    1.160</td>\n",
       "</tr>\n",
       "<tr>\n",
       "  <th>diabetes</th>        <td>    0.7303</td> <td>    0.298</td> <td>    2.451</td> <td> 0.014</td> <td>    0.146</td> <td>    1.314</td>\n",
       "</tr>\n",
       "<tr>\n",
       "  <th>totChol</th>         <td>   -0.0010</td> <td>    0.001</td> <td>   -0.934</td> <td> 0.351</td> <td>   -0.003</td> <td>    0.001</td>\n",
       "</tr>\n",
       "<tr>\n",
       "  <th>sysBP</th>           <td>    0.0127</td> <td>    0.004</td> <td>    3.343</td> <td> 0.001</td> <td>    0.005</td> <td>    0.020</td>\n",
       "</tr>\n",
       "<tr>\n",
       "  <th>diaBP</th>           <td>   -0.0259</td> <td>    0.006</td> <td>   -4.219</td> <td> 0.000</td> <td>   -0.038</td> <td>   -0.014</td>\n",
       "</tr>\n",
       "<tr>\n",
       "  <th>BMI</th>             <td>   -0.0484</td> <td>    0.012</td> <td>   -3.932</td> <td> 0.000</td> <td>   -0.072</td> <td>   -0.024</td>\n",
       "</tr>\n",
       "<tr>\n",
       "  <th>heartRate</th>       <td>   -0.0224</td> <td>    0.004</td> <td>   -5.645</td> <td> 0.000</td> <td>   -0.030</td> <td>   -0.015</td>\n",
       "</tr>\n",
       "<tr>\n",
       "  <th>glucose</th>         <td>    0.0020</td> <td>    0.002</td> <td>    0.967</td> <td> 0.334</td> <td>   -0.002</td> <td>    0.006</td>\n",
       "</tr>\n",
       "</table>"
      ],
      "text/latex": [
       "\\begin{center}\n",
       "\\begin{tabular}{lclc}\n",
       "\\toprule\n",
       "\\textbf{Dep. Variable:}   &    TenYearCHD    & \\textbf{  No. Observations:  } &     3656    \\\\\n",
       "\\textbf{Model:}           &      Logit       & \\textbf{  Df Residuals:      } &     3641    \\\\\n",
       "\\textbf{Method:}          &       MLE        & \\textbf{  Df Model:          } &       14    \\\\\n",
       "\\textbf{Date:}            & Fri, 08 Aug 2025 & \\textbf{  Pseudo R-squ.:     } &  0.07059    \\\\\n",
       "\\textbf{Time:}            &     10:52:45     & \\textbf{  Log-Likelihood:    } &   -1450.1   \\\\\n",
       "\\textbf{converged:}       &       True       & \\textbf{  LL-Null:           } &   -1560.3   \\\\\n",
       "\\textbf{Covariance Type:} &    nonrobust     & \\textbf{  LLR p-value:       } & 3.854e-39   \\\\\n",
       "\\bottomrule\n",
       "\\end{tabular}\n",
       "\\begin{tabular}{lcccccc}\n",
       "                         & \\textbf{coef} & \\textbf{std err} & \\textbf{z} & \\textbf{P$> |$z$|$} & \\textbf{[0.025} & \\textbf{0.975]}  \\\\\n",
       "\\midrule\n",
       "\\textbf{male}            &       0.4018  &        0.105     &     3.836  &         0.000        &        0.197    &        0.607     \\\\\n",
       "\\textbf{age}             &       0.0289  &        0.006     &     4.939  &         0.000        &        0.017    &        0.040     \\\\\n",
       "\\textbf{education}       &      -0.1966  &        0.048     &    -4.087  &         0.000        &       -0.291    &       -0.102     \\\\\n",
       "\\textbf{currentSmoker}   &      -0.2120  &        0.153     &    -1.386  &         0.166        &       -0.512    &        0.088     \\\\\n",
       "\\textbf{cigsPerDay}      &       0.0206  &        0.006     &     3.327  &         0.001        &        0.008    &        0.033     \\\\\n",
       "\\textbf{BPMeds}          &       0.3649  &        0.230     &     1.584  &         0.113        &       -0.087    &        0.816     \\\\\n",
       "\\textbf{prevalentStroke} &       0.7053  &        0.485     &     1.455  &         0.146        &       -0.245    &        1.655     \\\\\n",
       "\\textbf{prevalentHyp}    &       0.9165  &        0.124     &     7.368  &         0.000        &        0.673    &        1.160     \\\\\n",
       "\\textbf{diabetes}        &       0.7303  &        0.298     &     2.451  &         0.014        &        0.146    &        1.314     \\\\\n",
       "\\textbf{totChol}         &      -0.0010  &        0.001     &    -0.934  &         0.351        &       -0.003    &        0.001     \\\\\n",
       "\\textbf{sysBP}           &       0.0127  &        0.004     &     3.343  &         0.001        &        0.005    &        0.020     \\\\\n",
       "\\textbf{diaBP}           &      -0.0259  &        0.006     &    -4.219  &         0.000        &       -0.038    &       -0.014     \\\\\n",
       "\\textbf{BMI}             &      -0.0484  &        0.012     &    -3.932  &         0.000        &       -0.072    &       -0.024     \\\\\n",
       "\\textbf{heartRate}       &      -0.0224  &        0.004     &    -5.645  &         0.000        &       -0.030    &       -0.015     \\\\\n",
       "\\textbf{glucose}         &       0.0020  &        0.002     &     0.967  &         0.334        &       -0.002    &        0.006     \\\\\n",
       "\\bottomrule\n",
       "\\end{tabular}\n",
       "%\\caption{Logit Regression Results}\n",
       "\\end{center}"
      ],
      "text/plain": [
       "<class 'statsmodels.iolib.summary.Summary'>\n",
       "\"\"\"\n",
       "                           Logit Regression Results                           \n",
       "==============================================================================\n",
       "Dep. Variable:             TenYearCHD   No. Observations:                 3656\n",
       "Model:                          Logit   Df Residuals:                     3641\n",
       "Method:                           MLE   Df Model:                           14\n",
       "Date:                Fri, 08 Aug 2025   Pseudo R-squ.:                 0.07059\n",
       "Time:                        10:52:45   Log-Likelihood:                -1450.1\n",
       "converged:                       True   LL-Null:                       -1560.3\n",
       "Covariance Type:            nonrobust   LLR p-value:                 3.854e-39\n",
       "===================================================================================\n",
       "                      coef    std err          z      P>|z|      [0.025      0.975]\n",
       "-----------------------------------------------------------------------------------\n",
       "male                0.4018      0.105      3.836      0.000       0.197       0.607\n",
       "age                 0.0289      0.006      4.939      0.000       0.017       0.040\n",
       "education          -0.1966      0.048     -4.087      0.000      -0.291      -0.102\n",
       "currentSmoker      -0.2120      0.153     -1.386      0.166      -0.512       0.088\n",
       "cigsPerDay          0.0206      0.006      3.327      0.001       0.008       0.033\n",
       "BPMeds              0.3649      0.230      1.584      0.113      -0.087       0.816\n",
       "prevalentStroke     0.7053      0.485      1.455      0.146      -0.245       1.655\n",
       "prevalentHyp        0.9165      0.124      7.368      0.000       0.673       1.160\n",
       "diabetes            0.7303      0.298      2.451      0.014       0.146       1.314\n",
       "totChol            -0.0010      0.001     -0.934      0.351      -0.003       0.001\n",
       "sysBP               0.0127      0.004      3.343      0.001       0.005       0.020\n",
       "diaBP              -0.0259      0.006     -4.219      0.000      -0.038      -0.014\n",
       "BMI                -0.0484      0.012     -3.932      0.000      -0.072      -0.024\n",
       "heartRate          -0.0224      0.004     -5.645      0.000      -0.030      -0.015\n",
       "glucose             0.0020      0.002      0.967      0.334      -0.002       0.006\n",
       "===================================================================================\n",
       "\"\"\""
      ]
     },
     "execution_count": 7,
     "metadata": {},
     "output_type": "execute_result"
    }
   ],
   "source": [
    "#check whether variables are statistically significant\n",
    "# we dont want to include variables which are not statistically significant\n",
    "import pandas as pd\n",
    "import statsmodels.api as sm\n",
    "\n",
    "#df.head()\n",
    "df_logit=data_clean\n",
    "Cols = df_logit.columns \n",
    "X = df_logit[Cols[:-1]] \n",
    "y = df_logit[Cols[-1]]  \n",
    "model = sm.Logit(y,X).fit() \n",
    "model.summary()\n"
   ]
  },
  {
   "cell_type": "markdown",
   "metadata": {},
   "source": [
    "Analysis of statistical significance of predictors\n",
    "\n",
    "z-score of coeficients: A larger |z-score| (further from zero) suggests a stronger association between the predictor and the outcome\n",
    "\n",
    "p>|z|:  probability of achieving that z score by random chance\n",
    "\n",
    "2 predictors (glucose, and totChol) have 0.334 and 0.351 prob of >z\n",
    "\n",
    "glucose, and totChol also have a lower z value 0.967/0.934 - compared to other predictors - \n",
    "\n",
    "However, I choose to remove <b>ONLY</b> glucose variable, since based on available documentation and expert knowledge of Cadivascular Disease, Total Cholesterol is understood to be a contributor (even though it is not a perfect predictor)\n",
    " \n",
    "\n"
   ]
  },
  {
   "cell_type": "code",
   "execution_count": 8,
   "metadata": {},
   "outputs": [],
   "source": [
    "#do not include glucose in the inputs\n",
    "#select column titles \n",
    "outputs = ['TenYearCHD']\n",
    "inputs = ['male', 'age', 'education', 'currentSmoker', 'cigsPerDay', 'BPMeds', 'prevalentStroke','diabetes','sysBP','diaBP','BMI','heartRate','totChol']\n",
    "\n",
    "\n",
    "#set X as the inputs\n",
    "#set Y as the output \n",
    "X = data_clean[inputs]\n",
    "Y = data_clean[outputs].to_numpy().reshape(-1)"
   ]
  },
  {
   "cell_type": "markdown",
   "metadata": {
    "id": "OqX_Zn3Hxhfd"
   },
   "source": [
    "scale the data"
   ]
  },
  {
   "cell_type": "code",
   "execution_count": 9,
   "metadata": {
    "id": "RdH34bJixuRh"
   },
   "outputs": [],
   "source": [
    "#scale the data \n",
    "scaler = StandardScaler().fit(X)\n",
    "X = scaler.transform(X)"
   ]
  },
  {
   "cell_type": "code",
   "execution_count": 10,
   "metadata": {},
   "outputs": [
    {
     "name": "stdout",
     "output_type": "stream",
     "text": [
      "[[ 1.11982472 -1.23335117  1.97575158 ...  0.29168785  0.35633992\n",
      "  -0.94971428]\n",
      " [-0.8929969  -0.41559058  0.01979497 ...  0.7246142   1.60828949\n",
      "   0.29772868]\n",
      " [ 1.11982472 -0.1819447  -0.95818334 ... -0.10926099 -0.06097661\n",
      "   0.18432477]\n",
      " ...\n",
      " [ 1.11982472  0.05170118 -0.95818334 ...  0.04570696 -0.81214636\n",
      "   1.72661789]\n",
      " [ 1.11982472  0.16852412  0.99777327 ... -1.49413337 -0.89560966\n",
      "  -0.67754491]\n",
      " [-0.8929969   0.28534706  0.01979497 ... -1.06120701  0.35633992\n",
      "   0.72866352]]\n"
     ]
    }
   ],
   "source": [
    "print(X)"
   ]
  },
  {
   "cell_type": "code",
   "execution_count": 11,
   "metadata": {
    "id": "XrzVsMpryuxB"
   },
   "outputs": [],
   "source": [
    "#divide it into a 80 / 20 training and testing split.\n",
    "num_of_points = len(Y)\n",
    "\n",
    "idx = list(range(num_of_points))\n",
    "np.random.shuffle(idx)\n",
    "idx_train = idx[:int(num_of_points * 0.8)]\n",
    "idx_train.sort()\n",
    "idx_test = idx[int(num_of_points * 0.8):]\n",
    "idx_test.sort()\n",
    "\n",
    "X_train = X[idx_train, :]\n",
    "X_test = X[idx_test, :]\n",
    "\n",
    "Y_train = Y[idx_train]\n",
    "Y_test = Y[idx_test]"
   ]
  },
  {
   "cell_type": "markdown",
   "metadata": {
    "id": "wAmjUYZjxPVF"
   },
   "source": [
    "# Logistic Regression\n",
    "<i>Reference: Module13 Imperial AI Certificate course</i>\n",
    "\n",
    "\n",
    "Assume we have a set of predictors $x \\in \\mathcal{X}$, and a set of outputs $y \\in \\{0, 1 \\}$. We are then interested in estimating the probability of belonging to a certain class, that is, we want to build an estimator, $\\hat{p}(x)$, such that:\n",
    "$$\n",
    "\\hat{p}(x) = \\mathbb{P}( Y = 1 | X = x )\n",
    "$$\n",
    "\n",
    "There are many real-world scenarios where this might be the case. Consider for example, we might be interested in predicting if a particular individual infected with COVID will need hospital treatment. In this case, we would define $Y = 1$ the scenario where the individual requires treatment, and $Y = 0$ otherwise. For predictors we could use $X = $ age. \n",
    "\n",
    "We could decide to use linear regression, that is, a model of the form:\n",
    "$$\n",
    "\\hat{p}(x) = \\beta_0 + x \\beta_1\n",
    "$$\n",
    "\n",
    "However, we run into trouble. Probabilities must lie between 0 and 1! The linear model is unable to incorporate this property into its predictions!\n",
    "\n",
    "We can instead wrap our linear model in a function that guarantees all our outputs lie between 0 and 1. We will be using the sigmoid function, defined as:\n",
    "$$\n",
    "\\sigma(x) = \\frac{1}{1 + e^{-x}}\n",
    "$$\n",
    "\n",
    "After wrapping the linear model, we obtain the logistic regression model, given by:\n",
    "$$\n",
    "\\hat{p}(x) = \\sigma(\\beta_0 + x \\beta_1)\n",
    "$$\n",
    "\n",
    "Which we can write as:\n",
    "$$\n",
    "\\hat{p}(x) = \\frac{e^{\\beta_0 + x \\beta_1}}{1 + e^{\\beta_0 + x \\beta_1}}\n",
    "$$"
   ]
  },
  {
   "cell_type": "markdown",
   "metadata": {
    "id": "l9LRuT3WCn7J"
   },
   "source": [
    "# Training the function\n",
    "<i>Reference: Module13 Imperial AI Certificate course</i>\n",
    "\n",
    "The parameters of a linear regression model can be estimated using least squares. However, it is not the best optimiser for logistic regression. This is because we are not estimating $Y$ directly, instead we are estimating $\\textit{the probability}$ of Y. This means maximum likelihood estimation is much more appropriate for logistic regression. We can write the likelihood function easily:\n",
    "$$\n",
    "\\mathcal{L} = \\prod_{i : y_i = 1} \\mathbb{P}(Y = 1 | X = x_i) \\prod_{i' : y_{i'} = 0} (1 - \\mathbb{P}(Y = 0 | X = x_{i'}))\n",
    "$$\n",
    "\n",
    "Instead of maximising this directly, it is more common to minimise the negative log-likelihood:\n",
    "$$\n",
    "\\ell(\\beta) = - \\log \\mathcal{L}(\\beta) = - \\sum_{i : y_i = 1} \\log\\sigma(x_i^T \\beta) - \\sum_{i' : y_{i'} = 0}\\log \\sigma(x_{i'}^T\\beta)\n",
    "$$\n",
    "So that we choose our parameters, $\\hat{\\beta}$:\n",
    "$$\n",
    "\\hat{\\beta} = \\arg\\min_{\\beta} \\ell(\\beta)\n",
    "$$\n",
    "\n",
    "Finding the minimum can easily be done using any gradient-based optimiser. In addition, we can also add regularization, which helps us avoid overfitting. We will begin by investigating this."
   ]
  },
  {
   "cell_type": "markdown",
   "metadata": {
    "id": "R90i_2UNu_0l"
   },
   "source": [
    "We use scikit.learn's LogisticRegression class to train a model on the data-set above, without  regularizing \n",
    "Show the model's training and test accuracy, and build a confusion matrix for each set. (\n",
    "Use functions  $ \\texttt{.fit()} $, $\\texttt{.predict()}$, and $\\texttt{confusion\\_matrix()}$."
   ]
  },
  {
   "cell_type": "code",
   "execution_count": 12,
   "metadata": {},
   "outputs": [
    {
     "name": "stdout",
     "output_type": "stream",
     "text": [
      "Training Confusion Matrix\n",
      "[[2452   20]\n",
      " [ 419   33]]\n",
      "\n",
      "Training accuracy = 0.8498632010943913\n",
      "\n",
      "Testing Confusion Matrix\n",
      "[[620   7]\n",
      " [ 97   8]]\n",
      "\n",
      "Testing accuracy = 0.8579234972677595\n"
     ]
    }
   ],
   "source": [
    "# define the model - pass Penalty = None to disable Regularisation\n",
    "model = LogisticRegression(penalty = None)\n",
    "# train the model\n",
    "model.fit(X_train, Y_train)\n",
    "# create the predictions\n",
    "Y_train_pred = model.predict(X_train)\n",
    "Y_test_pred = model.predict(X_test)\n",
    "# build the confusion matrices\n",
    "confusion_matrix_train = confusion_matrix(Y_train, Y_train_pred)\n",
    "confusion_matrix_test = confusion_matrix(Y_test, Y_test_pred)\n",
    "# calculate accuracies\n",
    "train_accuracy = accuracy_score(Y_train, Y_train_pred)\n",
    "test_accuracy = accuracy_score(Y_test, Y_test_pred)\n",
    "# display the results\n",
    "print('Training Confusion Matrix')\n",
    "print(confusion_matrix_train)\n",
    "print()\n",
    "print(f'Training accuracy = {train_accuracy}')\n",
    "print()\n",
    "print('Testing Confusion Matrix')\n",
    "print(confusion_matrix_test)\n",
    "print()\n",
    "print(f'Testing accuracy = {test_accuracy}')"
   ]
  },
  {
   "cell_type": "markdown",
   "metadata": {
    "id": "BCvHNIle66HT"
   },
   "source": [
    "## REgularisation\n",
    "<i>Reference: Module13 Imperial AI Certificate course</i>\n",
    "\n",
    "We add a penalty to the loss function to decrease the complexity of the model, in an attempt to stop the model from over-fitting. Ideally, this should lead to better generalization. To be more precise, for L2 regularization we will now choose our parameters by minimizing the modified loss function:\n",
    "$$\n",
    "\\hat{\\beta} = \\arg\\min_\\beta \\{ C \\cdot \\ell(\\beta) + \\frac{1}{2}\\beta^T \\beta \\}\n",
    "$$\n",
    "\n",
    "Note that the new penalization means that $\\beta$ should be closer to zero (this is what we mean by 'a simpler model').\n",
    "\n",
    "We investigate the effect of L2 regularization. In particular, focus on the how the testing accuracy changes for different values of $C$. Create a plot that shows how $C$ varies, starting at $10^{-6}$ and ending at $10^{-2}$.\n",
    "\n",
    "choose the best regularization constant. \n",
    "\n"
   ]
  },
  {
   "cell_type": "markdown",
   "metadata": {},
   "source": [
    "\n"
   ]
  },
  {
   "cell_type": "code",
   "execution_count": 23,
   "metadata": {},
   "outputs": [
    {
     "name": "stdout",
     "output_type": "stream",
     "text": [
      "Best test accuracy was achieved with C = 0.002522311557788945, giving an accuracy of 0.8593.\n",
      "Without regularisation, we achieved an accuracy of 0.8579.\n",
      "\n"
     ]
    },
    {
     "data": {
      "image/png": "[encoded data removed]",
      "text/plain": [
       "<Figure size 640x480 with 1 Axes>"
      ]
     },
     "metadata": {},
     "output_type": "display_data"
    }
   ],
   "source": [
    "C_space = np.linspace(10e-6, 10e-2, 200)\n",
    "#print(len(C_space))\n",
    "accuracies = []\n",
    "\n",
    "for C in C_space:\n",
    "  model = LogisticRegression(penalty = 'l2', C = C)\n",
    "  model.fit(X_train, Y_train)\n",
    "  Y_test_pred = model.predict(X_test)\n",
    "  accuracies.append(accuracy_score(Y_test, Y_test_pred))\n",
    "\n",
    "plt.plot(C_space, accuracies)\n",
    "plt.xlabel('C')\n",
    "plt.ylabel('Testing Accuracy')\n",
    "plt.title('Analysis of Regularisation')\n",
    "\n",
    "best_model = np.argmax(accuracies)\n",
    "best_accuracy = accuracies[best_model]\n",
    "best_C = C_space[best_model]\n",
    "\n",
    "print(f'Best test accuracy was achieved with C = {best_C}, giving an accuracy of {round(best_accuracy,4)}.') \n",
    "print(f'Without regularisation, we achieved an accuracy of {round(test_accuracy,4)}.')\n",
    "print()"
   ]
  },
  {
   "cell_type": "code",
   "execution_count": null,
   "metadata": {},
   "outputs": [],
   "source": []
  },
  {
   "cell_type": "markdown",
   "metadata": {
    "id": "pv_JxY-R_n0r"
   },
   "source": [
    "\n",
    "<b> Probability Threshold </b>\n",
    "\n",
    "<i>Reference: Module13 Imperial AI Certificate course</i>\n",
    "\n",
    "Recall that we are not estimating $Y$ directly, but instead the probability of $Y = 1 | X$. So far, our classification has been based on the which class has the higher probability. In other words, we have been using the classifier:\n",
    "$$\n",
    "  \\hat{Y}(x) =\n",
    "    \\begin{cases}\n",
    "      0 & \\text{if } \\hat{p}(x) < 0.5 \\\\\n",
    "      1 & \\text{if } \\hat{p}(x) \\geq 0.5 \\\\\n",
    "    \\end{cases}       \n",
    "$$\n",
    "\n",
    "However, we must also consider that the probability threshold of 0.5 might not be optimal. Indeed, consider our current data-set. Let's say we were going to use our model to decide who should go see a doctor and possibly get preventive treatment. \n",
    "\n",
    "<b>In this case, incorrectly predicting that someone will not have HEart Disease, when they will, is very costly - the person might face severe health consequences. On the other hand, incorrectly saying someone will have HEart Disease , when they won't, is not as bad because the doctor would be able to catch this, and we would just waste a little time. </b>\n",
    "\n",
    "\n",
    "Steps\n",
    "\n",
    "1. Train a new logistic regression model, using the best regularization \n",
    "\n",
    "2. Build a new function which takes as inputs: your Logistic Regression model, a set of $X$ values in which to predict, and a probability threshold $T$. \n",
    "\n",
    "3. Investigate the effect of the probability threshold on the number of False Negatives and False Positives. \n",
    "\n",
    "-> As per graph below I  choose Probability threshold of 0.16\n",
    "-> False Negatives should be as small as possible since missing a Heart Disease patients is serious. higher false positives is less serious - although we still want it to be small - it's impact is some wasted time from doctor. \n"
   ]
  },
  {
   "cell_type": "code",
   "execution_count": 21,
   "metadata": {},
   "outputs": [
    {
     "name": "stdout",
     "output_type": "stream",
     "text": [
      "101\n",
      "t     fnr     fpr\n",
      "0.12   0.181   0.5566\n",
      "t     fnr     fpr\n",
      "0.13   0.219   0.4737\n",
      "t     fnr     fpr\n",
      "0.14   0.2381   0.4115\n",
      "t     fnr     fpr\n",
      "0.15   0.2762   0.3525\n",
      "t     fnr     fpr\n",
      "0.16   0.3333   0.3014\n",
      "t     fnr     fpr\n",
      "0.17   0.3714   0.2568\n",
      "t     fnr     fpr\n",
      "0.18   0.4476   0.2105\n",
      "t     fnr     fpr\n",
      "0.19   0.5048   0.1802\n"
     ]
    },
    {
     "data": {
      "text/plain": [
       "<matplotlib.legend.Legend at 0x19a5b3afc50>"
      ]
     },
     "execution_count": 21,
     "metadata": {},
     "output_type": "execute_result"
    },
    {
     "data": {
      "image/png": "[encoded data removed]",
      "text/plain": [
       "<Figure size 1000x600 with 1 Axes>"
      ]
     },
     "metadata": {},
     "output_type": "display_data"
    }
   ],
   "source": [
    "# define and train model\n",
    "model = LogisticRegression(penalty = 'l2', C = best_C)\n",
    "model.fit(X_train, Y_train)# model is trained on the Training dataset.\n",
    "\n",
    "def predict_with_threshold(model, X, threshold):\n",
    "  # calculate the probabilites\n",
    "  probabilites = model.predict_proba(X)\n",
    "  # scikit returns the probabilities for each class. However, we only need the second column as there are only two classes\n",
    "  # and probabilites add up to one. In particular, the second column represents Pr(Y = 1 | X)\n",
    "  probabilites = probabilites[:, 1]\n",
    "  # build an array of boolean variables, checking where our probabilities are larger or equal to the threshold\n",
    "  boolean_threshold = (probabilites >= threshold)\n",
    "  # since our class labels are 1 and 0, we can simply transform the boolean variables by making them integers\n",
    "  predictions = boolean_threshold.astype(int)\n",
    "\n",
    "  return predictions\n",
    "\n",
    "# define threshold space, initialise lists\n",
    "thresholds = np.linspace(0, 1, 101)\n",
    "print( len(thresholds) )\n",
    "false_negatives = []\n",
    "false_positives = []\n",
    "\n",
    "# calculate number of true positives and negatives\n",
    "num_of_positives = np.sum(Y_test)\n",
    "num_of_negatives = len(Y_test) - num_of_positives\n",
    "\n",
    "for t in thresholds:\n",
    "  # predict\n",
    "  Y_pred = predict_with_threshold(model, X_test, t)\n",
    "  #calculate predictions\n",
    "  #cm = confusion_matrix(Y_test, Y_pred)\n",
    "  tn, fp, fn, tp  = confusion_matrix(Y_test, Y_pred).ravel()\n",
    "  # calculate false negative rate and false positive rate\n",
    "  #fnr = cm[1, 0] / num_of_positives\n",
    "  #fpr = cm[0, 1] / num_of_negatives\n",
    "  fnr = fn / num_of_positives\n",
    "  fpr = fp / num_of_negatives\n",
    "    \n",
    "  \n",
    "  if t > 0.11 and t < 0.2:    \n",
    "      print (\"t     fnr     fpr\")\n",
    "      print (t, \" \", round(fnr,4) , \" \", round(fpr,4))\n",
    "    \n",
    "  # append to lists\n",
    "  false_negatives.append(fnr)\n",
    "  false_positives.append(fpr)\n",
    "    \n",
    "\n",
    "# create a plot to see how the rates change with the threshold\n",
    "fig, ax = plt.subplots(nrows=1, ncols=1)\n",
    "fig.set_figheight(6)\n",
    "fig.set_figwidth(10)\n",
    "fig.suptitle('Investigation of the FNR and FPR against Probability Threshold')\n",
    "\n",
    "ax.plot(thresholds, false_negatives, 'r', label = 'FNR')\n",
    "ax.plot(thresholds, false_positives, 'b', label = 'FPR')\n",
    "ax.set_ylabel('Performance Metrics')\n",
    "ax.set_xlabel('Probability Thresholds')\n",
    "ax.legend()"
   ]
  },
  {
   "cell_type": "code",
   "execution_count": 22,
   "metadata": {},
   "outputs": [],
   "source": [
    "#based on the above graph a probability threshold of 0.16 is chosen which provide a balance between FNR and FPR"
   ]
  },
  {
   "cell_type": "code",
   "execution_count": 37,
   "metadata": {},
   "outputs": [],
   "source": [
    "  Y_test_pred = predict_with_threshold(model, X_test, 0.16) #c=best_C as above\n",
    "  #calculate predictions\n",
    "  #cm = confusion_matrix(Y_test, Y_pred)\n",
    "  cm=confusion_matrix(Y_test, Y_test_pred)\n"
   ]
  },
  {
   "cell_type": "code",
   "execution_count": 38,
   "metadata": {},
   "outputs": [
    {
     "data": {
      "image/png": "[encoded data removed]",
      "text/plain": [
       "<Figure size 800x600 with 2 Axes>"
      ]
     },
     "metadata": {},
     "output_type": "display_data"
    }
   ],
   "source": [
    "import seaborn as sn\n",
    "import matplotlib.pyplot as plt\n",
    "\n",
    "plt.figure(figsize=(8, 6))\n",
    "sn.heatmap(cm, annot=True, fmt='d', cmap='Blues')\n",
    "plt.title('Confusion Matrix All Ages')\n",
    "plt.xlabel('Predicted Label')\n",
    "plt.ylabel('True Label')\n",
    "plt.show()"
   ]
  },
  {
   "cell_type": "code",
   "execution_count": 35,
   "metadata": {},
   "outputs": [
    {
     "name": "stdout",
     "output_type": "stream",
     "text": [
      " tn, fp, fn, tp\n",
      "450   177   37   68\n"
     ]
    }
   ],
   "source": [
    "tn, fp, fn, tp =confusion_matrix(Y_test, Y_test_pred).ravel()\n",
    "print(\" tn, fp, fn, tp\")\n",
    "print( tn,\" \",fp, \" \",fn, \" \",tp)\n"
   ]
  },
  {
   "cell_type": "code",
   "execution_count": 39,
   "metadata": {},
   "outputs": [
    {
     "name": "stdout",
     "output_type": "stream",
     "text": [
      "sensitivity:  0.6476\n",
      "specificity:  0.7177\n",
      "accuracy :  0.7077\n"
     ]
    }
   ],
   "source": [
    "sensitivity= tp/(tp+fn)\n",
    "specificity= tn/(fp+tn)\n",
    "accuracy=accuracy_score(Y_test, Y_test_pred)\n",
    "print(\"sensitivity: \", round(sensitivity,4))\n",
    "print(\"specificity: \", round( specificity,4))\n",
    "print( \"accuracy : \", round(accuracy,4))"
   ]
  },
  {
   "cell_type": "code",
   "execution_count": null,
   "metadata": {},
   "outputs": [],
   "source": []
  }
 ],
 "metadata": {
  "colab": {
   "collapsed_sections": [],
   "name": "IMP-PCMLAI-M13-LogisticRegressionNotebook-final.ipynb",
   "provenance": []
  },
  "interpreter": {
   "hash": "d37abda7630e259e5026a5079657683a09f6e3d11473720762ebe7250c494840"
  },
  "kernelspec": {
   "display_name": "Python 3 (ipykernel)",
   "language": "python",
   "name": "python3"
  },
  "language_info": {
   "codemirror_mode": {
    "name": "ipython",
    "version": 3
   },
   "file_extension": ".py",
   "mimetype": "text/x-python",
   "name": "python",
   "nbconvert_exporter": "python",
   "pygments_lexer": "ipython3",
   "version": "3.13.2"
  }
 },
 "nbformat": 4,
 "nbformat_minor": 4
}
